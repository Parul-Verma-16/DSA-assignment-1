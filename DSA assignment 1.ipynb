{
 "cells": [
  {
   "cell_type": "markdown",
   "id": "849ec0de",
   "metadata": {},
   "source": [
    "## **Q1.** Given an array of integers nums and an integer target, return indices of the two numbers such that they add up to target.\n",
    "\n",
    "## You may assume that each input would have exactly one solution, and you may not use the same element twice.\n",
    "\n",
    "## You can return the answer in any order.\n",
    "\n",
    "## **Example:**\n",
    "## Input: nums = [2,7,11,15], target = 9\n",
    "## Output0 [0,1]\n",
    "\n",
    "## **Explanation:** Because nums[0] + nums[1] == 9, we return [0, 1]"
   ]
  },
  {
   "cell_type": "code",
   "execution_count": 1,
   "id": "2cefaa59",
   "metadata": {},
   "outputs": [
    {
     "name": "stdout",
     "output_type": "stream",
     "text": [
      "[0, 1]\n"
     ]
    }
   ],
   "source": [
    "def twoSum(nums, target):\n",
    "    # Create a hash map to store the elements and their indices\n",
    "    num_map = {}\n",
    "    \n",
    "    # Traverse the array\n",
    "    for i, num in enumerate(nums):\n",
    "        # Calculate the difference between target and the current number\n",
    "        diff = target - num\n",
    "        \n",
    "        # Check if the difference is already in the hash map\n",
    "        if diff in num_map:\n",
    "            # Return the indices of the two numbers\n",
    "            return [num_map[diff], i]\n",
    "        \n",
    "        # Add the current number and its index to the hash map\n",
    "        num_map[num] = i\n",
    "    \n",
    "    # If no solution is found, return an empty list\n",
    "    return []\n",
    "nums = [2, 7, 11, 15]\n",
    "target = 9\n",
    "result = twoSum(nums, target)\n",
    "print(result)"
   ]
  },
  {
   "cell_type": "markdown",
   "id": "ce343434",
   "metadata": {},
   "source": [
    "## **Q2.** Given an integer array nums and an integer val, remove all occurrences of val in nums in-place. The order of the elements may be changed. Then return the number of elements in nums which are not equal to val.\n",
    "\n",
    "## Consider the number of elements in nums which are not equal to val be k, to get accepted, you need to do the following things:\n",
    "\n",
    "## - Change the array nums such that the first k elements of nums contain the elements which are not equal to val. The remaining elements of nums are not important as well as the size of nums.\n",
    "## - Return k.\n",
    "\n",
    "## **Example :**\n",
    "## Input: nums = [3,2,2,3], val = 3\n",
    "## Output: 2, nums = [2,2,_*,_*]\n",
    "\n",
    "## **Explanation:** Your function should return k = 2, with the first two elements of nums being 2. It does not matter what you leave beyond the returned k (hence they are underscores)"
   ]
  },
  {
   "cell_type": "code",
   "execution_count": 2,
   "id": "590df5c9",
   "metadata": {},
   "outputs": [
    {
     "name": "stdout",
     "output_type": "stream",
     "text": [
      "Output: 2\n",
      "nums: [2, 2]\n"
     ]
    }
   ],
   "source": [
    "def removeElement(nums, val):\n",
    "    j = 0  # Pointer to keep track of the next position to be filled\n",
    "    \n",
    "    # Iterate through the array\n",
    "    for i in range(len(nums)):\n",
    "        if nums[i] != val:\n",
    "            nums[j] = nums[i]  # Assign the non-val element to nums[j]\n",
    "            j += 1  # Increment j\n",
    "        \n",
    "    return j\n",
    "nums = [3, 2, 2, 3]\n",
    "val = 3\n",
    "result = removeElement(nums, val)\n",
    "print(\"Output:\", result)\n",
    "print(\"nums:\", nums[:result])  # Print the modified nums with the first k elements"
   ]
  },
  {
   "cell_type": "markdown",
   "id": "147b99cc",
   "metadata": {},
   "source": [
    "## **Q3.** Given a sorted array of distinct integers and a target value, return the index if the target is found. If not, return the index where it would be if it were inserted in order.\n",
    "\n",
    "## You must write an algorithm with O(log n) runtime complexity.\n",
    "\n",
    "## **Example 1:**\n",
    "## Input: nums = [1,3,5,6], target = 5\n",
    "\n",
    "## Output: 2"
   ]
  },
  {
   "cell_type": "code",
   "execution_count": 3,
   "id": "921aa8c6",
   "metadata": {},
   "outputs": [
    {
     "name": "stdout",
     "output_type": "stream",
     "text": [
      "Output: 2\n"
     ]
    }
   ],
   "source": [
    "def searchInsert(nums, target):\n",
    "    left = 0\n",
    "    right = len(nums) - 1\n",
    "    \n",
    "    while left <= right:\n",
    "        mid = (left + right) // 2\n",
    "        \n",
    "        if nums[mid] == target:\n",
    "            return mid\n",
    "        \n",
    "        if nums[mid] < target:\n",
    "            left = mid + 1\n",
    "        else:\n",
    "            right = mid - 1\n",
    "    \n",
    "    return left\n",
    "nums = [1, 3, 5, 6]\n",
    "target = 5\n",
    "result = searchInsert(nums, target)\n",
    "print(\"Output:\", result)"
   ]
  },
  {
   "cell_type": "markdown",
   "id": "9fd07fdb",
   "metadata": {},
   "source": [
    "## **Q4.** You are given a large integer represented as an integer array digits, where each digits[i] is the ith digit of the integer. The digits are ordered from most significant to least significant in left-to-right order. The large integer does not contain any leading 0's.\n",
    "\n",
    "## Increment the large integer by one and return the resulting array of digits.\n",
    "\n",
    "## **Example 1:**\n",
    "## Input: digits = [1,2,3]\n",
    "## Output: [1,2,4]\n",
    "\n",
    "## **Explanation:** The array represents the integer 123.\n",
    "\n",
    "## Incrementing by one gives 123 + 1 = 124.\n",
    "## Thus, the result should be [1,2,4]."
   ]
  },
  {
   "cell_type": "code",
   "execution_count": 4,
   "id": "7ac4aab3",
   "metadata": {},
   "outputs": [
    {
     "name": "stdout",
     "output_type": "stream",
     "text": [
      "Output: [1, 2, 4]\n"
     ]
    }
   ],
   "source": [
    "def plusOne(digits):\n",
    "    n = len(digits)\n",
    "    \n",
    "    # Start from the least significant digit\n",
    "    for i in range(n - 1, -1, -1):\n",
    "        if digits[i] != 9:\n",
    "            digits[i] += 1\n",
    "            return digits\n",
    "        else:\n",
    "            digits[i] = 0\n",
    "    \n",
    "    # If all digits are 9, add an additional digit of 1 at the beginning\n",
    "    return [1] + digits\n",
    "digits = [1, 2, 3]\n",
    "result = plusOne(digits)\n",
    "print(\"Output:\", result)"
   ]
  },
  {
   "cell_type": "markdown",
   "id": "039c6f96",
   "metadata": {},
   "source": [
    "## **Q5.** You are given two integer arrays nums1 and nums2, sorted in non-decreasing order, and two integers m and n, representing the number of elements in nums1 and nums2 respectively.\n",
    "\n",
    "## Merge nums1 and nums2 into a single array sorted in non-decreasing order.\n",
    "\n",
    "## The final sorted array should not be returned by the function, but instead be stored inside the array nums1. To accommodate this, nums1 has a length of m + n, where the first m elements denote the elements that should be merged, and the last n elements are set to 0 and should be ignored. nums2 has a length of n.\n",
    "\n",
    "## **Example 1:**\n",
    "## Input: nums1 = [1,2,3,0,0,0], m = 3, nums2 = [2,5,6], n = 3\n",
    "## Output: [1,2,2,3,5,6]\n",
    "\n",
    "## **Explanation:** The arrays we are merging are [1,2,3] and [2,5,6].\n",
    "## The result of the merge is [1,2,2,3,5,6] with the underlined elements coming from nums1."
   ]
  },
  {
   "cell_type": "code",
   "execution_count": 5,
   "id": "e062ba29",
   "metadata": {},
   "outputs": [
    {
     "name": "stdout",
     "output_type": "stream",
     "text": [
      "Output: [1, 2, 2, 3, 5, 6]\n"
     ]
    }
   ],
   "source": [
    "def merge(nums1, m, nums2, n):\n",
    "    p1 = m - 1\n",
    "    p2 = n - 1\n",
    "    p = m + n - 1\n",
    "    \n",
    "    while p1 >= 0 and p2 >= 0:\n",
    "        if nums1[p1] >= nums2[p2]:\n",
    "            nums1[p] = nums1[p1]\n",
    "            p1 -= 1\n",
    "        else:\n",
    "            nums1[p] = nums2[p2]\n",
    "            p2 -= 1\n",
    "        p -= 1\n",
    "    \n",
    "    # Copy any remaining elements from nums2 to nums1\n",
    "    nums1[:p2 + 1] = nums2[:p2 + 1]\n",
    "nums1 = [1, 2, 3, 0, 0, 0]\n",
    "m = 3\n",
    "nums2 = [2, 5, 6]\n",
    "n = 3\n",
    "merge(nums1, m, nums2, n)\n",
    "print(\"Output:\", nums1)"
   ]
  },
  {
   "cell_type": "markdown",
   "id": "c3b22e52",
   "metadata": {},
   "source": [
    "## **Q6.** Given an integer array nums, return true if any value appears at least twice in the array, and return false if every element is distinct.\n",
    "\n",
    "## **Example 1:**\n",
    "## Input: nums = [1,2,3,1]\n",
    "\n",
    "## Output: true"
   ]
  },
  {
   "cell_type": "code",
   "execution_count": 6,
   "id": "4511870f",
   "metadata": {},
   "outputs": [
    {
     "name": "stdout",
     "output_type": "stream",
     "text": [
      "Output: True\n"
     ]
    }
   ],
   "source": [
    "def containsDuplicate(nums):\n",
    "    seen = set()\n",
    "    for num in nums:\n",
    "        if num in seen:\n",
    "            return True\n",
    "        seen.add(num)\n",
    "    return False\n",
    "nums = [1, 2, 3, 1]\n",
    "result = containsDuplicate(nums)\n",
    "print(\"Output:\", result)"
   ]
  },
  {
   "cell_type": "markdown",
   "id": "663c5838",
   "metadata": {},
   "source": [
    "##  **Q7.** Given an integer array nums, move all 0's to the end of it while maintaining the relative order of the nonzero elements.\n",
    "\n",
    "## Note that you must do this in-place without making a copy of the array.\n",
    "\n",
    "## **Example 1:**\n",
    "## Input: nums = [0,1,0,3,12]\n",
    "## Output: [1,3,12,0,0]]"
   ]
  },
  {
   "cell_type": "code",
   "execution_count": 7,
   "id": "cdf7ebcf",
   "metadata": {},
   "outputs": [
    {
     "name": "stdout",
     "output_type": "stream",
     "text": [
      "Output: [1, 3, 12, 0, 0]\n"
     ]
    }
   ],
   "source": [
    "def moveZeroes(nums):\n",
    "    left = 0\n",
    "    for right in range(len(nums)):\n",
    "        if nums[right] != 0:\n",
    "            nums[left], nums[right] = nums[right], nums[left]\n",
    "            left += 1\n",
    "    \n",
    "    while left < len(nums):\n",
    "        nums[left] = 0\n",
    "        left += 1\n",
    "nums = [0, 1, 0, 3, 12]\n",
    "moveZeroes(nums)\n",
    "print(\"Output:\", nums)"
   ]
  },
  {
   "cell_type": "markdown",
   "id": "3b194d7f",
   "metadata": {},
   "source": [
    "##  **Q8.** You have a set of integers s, which originally contains all the numbers from 1 to n. Unfortunately, due to some error, one of the numbers in s got duplicated to another number in the set, which results in repetition of one number and loss of another number.\n",
    "\n",
    "## You are given an integer array nums representing the data status of this set after the error.\n",
    "\n",
    "## Find the number that occurs twice and the number that is missing and return them in the form of an array.\n",
    "\n",
    "## **Example 1:**\n",
    "## Input: nums = [1,2,2,4]\n",
    "## Output: [2,3]"
   ]
  },
  {
   "cell_type": "code",
   "execution_count": 8,
   "id": "1c8ffc59",
   "metadata": {},
   "outputs": [
    {
     "name": "stdout",
     "output_type": "stream",
     "text": [
      "Output: [2, 3]\n"
     ]
    }
   ],
   "source": [
    "def findErrorNums(nums):\n",
    "    n = len(nums)\n",
    "    seen = set()\n",
    "    duplicate = -1\n",
    "    \n",
    "    for num in nums:\n",
    "        if num in seen:\n",
    "            duplicate = num\n",
    "        seen.add(num)\n",
    "    \n",
    "    expected_sum = n * (n + 1) // 2\n",
    "    actual_sum = sum(nums)\n",
    "    missing = expected_sum - actual_sum + duplicate\n",
    "    \n",
    "    return [duplicate, missing]\n",
    "nums = [1, 2, 2, 4]\n",
    "result = findErrorNums(nums)\n",
    "print(\"Output:\", result)"
   ]
  }
 ],
 "metadata": {
  "kernelspec": {
   "display_name": "Python 3 (ipykernel)",
   "language": "python",
   "name": "python3"
  },
  "language_info": {
   "codemirror_mode": {
    "name": "ipython",
    "version": 3
   },
   "file_extension": ".py",
   "mimetype": "text/x-python",
   "name": "python",
   "nbconvert_exporter": "python",
   "pygments_lexer": "ipython3",
   "version": "3.9.13"
  }
 },
 "nbformat": 4,
 "nbformat_minor": 5
}
